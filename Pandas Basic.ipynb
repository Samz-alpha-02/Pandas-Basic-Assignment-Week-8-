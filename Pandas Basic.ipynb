{
 "cells": [
  {
   "cell_type": "code",
   "execution_count": 6,
   "id": "44c407fd-e48b-4fd9-b7b2-b9b6564ee356",
   "metadata": {},
   "outputs": [
    {
     "data": {
      "text/plain": [
       "0     4\n",
       "1     8\n",
       "2    15\n",
       "3    16\n",
       "4    23\n",
       "5    42\n",
       "dtype: int64"
      ]
     },
     "execution_count": 6,
     "metadata": {},
     "output_type": "execute_result"
    }
   ],
   "source": [
    "#Q1\n",
    "import pandas as pd\n",
    "data = [4, 8, 15, 16, 23, 42]\n",
    "series = pd.Series(data)\n",
    "series"
   ]
  },
  {
   "cell_type": "code",
   "execution_count": 7,
   "id": "3e38518a-7706-4ad4-b00f-47347c761abd",
   "metadata": {},
   "outputs": [
    {
     "data": {
      "text/plain": [
       "0     2\n",
       "1     5\n",
       "2    31\n",
       "3    67\n",
       "4    45\n",
       "5    22\n",
       "6    99\n",
       "7    78\n",
       "8    87\n",
       "9    12\n",
       "dtype: int64"
      ]
     },
     "execution_count": 7,
     "metadata": {},
     "output_type": "execute_result"
    }
   ],
   "source": [
    "#Q2\n",
    "data = [2,5,31,67,45,22,99,78,87,12]\n",
    "series = pd.Series(data)\n",
    "series"
   ]
  },
  {
   "cell_type": "code",
   "execution_count": 37,
   "id": "04a7a7e2-6289-44e6-8061-8f0ca22f8e42",
   "metadata": {},
   "outputs": [
    {
     "name": "stdout",
     "output_type": "stream",
     "text": [
      "  Name  Age Gender\n",
      " Alice   25 Female\n",
      "   Bob   30   Male\n",
      "Claire   27 Female\n"
     ]
    }
   ],
   "source": [
    "#Q3\n",
    "import pandas as pd\n",
    "\n",
    "data = {'Name': ['Alice', 'Bob', 'Claire'],\n",
    "        'Age': [25, 30, 27],\n",
    "        'Gender': ['Female', 'Male', 'Female']}\n",
    "\n",
    "df = pd.DataFrame(data)\n",
    "print(df.to_string(index=False))"
   ]
  },
  {
   "cell_type": "code",
   "execution_count": null,
   "id": "626c94d7-bb00-4cf6-8cf6-b23650275823",
   "metadata": {},
   "outputs": [],
   "source": [
    "#Q4\n",
    "In pandas, a DataFrame is a two-dimensional data structure that stores and organizes data in a tabular \n",
    "format. It consists of rows and columns, similar to a spreadsheet or a SQL table. Each column in a DataFrame \n",
    "represents a variable or feature, while each row represents an observation or data point.\n",
    "\n",
    "On the other hand, a Series in pandas is a one-dimensional array-like object that can hold any data type. \n",
    "It is similar to a column in a DataFrame. A Series contains an index that labels each element in the Series, \n",
    "providing a way to access the data.\n",
    "\n",
    "To illustrate the difference between a DataFrame and a Series, let's consider an example:\n",
    "\n",
    "import pandas as pd\n",
    "\n",
    "# Example DataFrame\n",
    "data = {'Name': ['Alice', 'Bob', 'Claire'],\n",
    "        'Age': [25, 30, 27],\n",
    "        'Gender': ['Female', 'Male', 'Female']}\n",
    "df = pd.DataFrame(data)\n",
    "\n",
    "# Example Series\n",
    "ages = df['Age']\n",
    "\n",
    "In this example, we have a DataFrame df that contains three columns: 'Name', 'Age', and 'Gender'. Each\n",
    "column represents a Series within the DataFrame. For instance, we can access the 'Age' column by df['Age'], \n",
    "which returns a Series ages containing the ages of the individuals.\n",
    "\n",
    "The DataFrame df provides a tabular structure where we can work with multiple columns simultaneously. It allows \n",
    "us to perform various operations, such as filtering, grouping, and merging, on the data as a whole.\n",
    "\n",
    "On the other hand, the Series ages represents a one-dimensional array-like object that holds the ages of \n",
    "the individuals. It has an index associated with it, allowing us to access specific elements or perform \n",
    "operations on the series.\n",
    "\n",
    "In summary, a DataFrame is a tabular structure consisting of multiple columns, while a Series is a \n",
    "one-dimensional array-like object representing a single column from a DataFrame. DataFrames are useful \n",
    "for working with structured, tabular data, while Series are suitable for handling one-dimensional data or \n",
    "extracting specific columns from a DataFrame."
   ]
  },
  {
   "cell_type": "code",
   "execution_count": null,
   "id": "32e87239-44a1-4ce5-9356-53c22bb6b1fd",
   "metadata": {},
   "outputs": [],
   "source": [
    "#Q5\n",
    "Pandas provides a wide range of functions to manipulate and analyze data in a DataFrame. Here are \n",
    "some common functions that we can use:\n",
    "\n",
    "1.head() and tail(): These functions allow you to view the first few rows (head()) or the last few \n",
    "                     rows (tail()) of a DataFrame. They are useful for quickly inspecting the data.\n",
    "\n",
    "2.info(): This function provides a summary of the DataFrame, including the column names, data types,\n",
    "          and non-null counts. It helps in understanding the structure of the DataFrame and \n",
    "          identifying missing values.\n",
    "\n",
    "3.describe(): This function generates descriptive statistics of the numeric columns in the DataFrame, \n",
    "              such as count, mean, standard deviation, minimum, and maximum. It provides insights into \n",
    "              the distribution and basic statistics of the data.\n",
    "\n",
    "4.value_counts(): This function returns the count of unique values in a specific column of the DataFrame.\n",
    "                  It is useful for understanding the distribution of categorical variables or identifying \n",
    "                  the most common values.\n",
    "\n",
    "5.sort_values(): This function allows you to sort the DataFrame based on one or more columns. It helps \n",
    "                 in ordering the data based on specific criteria.\n",
    "\n",
    "6.groupby(): This function enables you to group the data based on one or more columns and perform \n",
    "             operations on each group. It is useful for aggregating data, calculating group-level\n",
    "             statistics, or applying custom functions.\n",
    "\n",
    "7.apply(): This function applies a given function to each element or column in the DataFrame. It \n",
    "           allows you to perform custom calculations or transformations on the data.\n",
    "\n",
    "8.merge() and concat(): These functions are used for combining multiple DataFrames either by merging \n",
    "                        them based on common columns (merge()) or by concatenating them vertically or\n",
    "                        horizontally (concat()). They are helpful for data integration and consolidation.\n",
    "\n",
    "9.fillna(): This function is used to fill missing values in the DataFrame with a specified value or a \n",
    "            strategy like mean or median. It helps in handling missing data before analysis.\n",
    "    \n"
   ]
  },
  {
   "cell_type": "code",
   "execution_count": 25,
   "id": "ca113b16-7c37-417d-9a43-34a1698b83f3",
   "metadata": {},
   "outputs": [
    {
     "name": "stdout",
     "output_type": "stream",
     "text": [
      "Category\n",
      "Clothing       500\n",
      "Electronics    500\n",
      "Name: Sales, dtype: int64\n"
     ]
    }
   ],
   "source": [
    "import pandas as pd\n",
    "\n",
    "data = {'Product': ['A', 'B', 'A', 'B', 'C'],\n",
    "        'Category': ['Electronics', 'Clothing', 'Electronics', 'Clothing', 'Electronics'],\n",
    "        'Sales': [100, 200, 150, 300, 250]}\n",
    "\n",
    "df = pd.DataFrame(data)\n",
    "\n",
    "category_sales = df.groupby('Category')['Sales'].sum()\n",
    "print(category_sales)\n"
   ]
  },
  {
   "cell_type": "code",
   "execution_count": null,
   "id": "65329f26-fdcc-4f27-ad1c-3a977724630f",
   "metadata": {},
   "outputs": [],
   "source": [
    "In this example, the DataFrame df contains columns 'Product', 'Category', and 'Sales'. By using\n",
    "groupby('Category')['Sales'].sum(), we group the data by the 'Category' column and calculate the \n",
    "sum of 'Sales' for each category. The resulting Series category_sales shows the total sales for \n",
    "each category."
   ]
  },
  {
   "cell_type": "code",
   "execution_count": null,
   "id": "182559ca-2a5d-4591-8e8d-4106a57ffed8",
   "metadata": {},
   "outputs": [],
   "source": [
    "#Q6\n",
    "\n",
    "Among the options provided, both the Series and DataFrame are mutable in nature in pandas, while\n",
    "the Panel is not mutable.\n",
    "\n",
    "In pandas, mutability refers to the ability to modify or change the underlying data structure\n",
    "without creating a new object. Let's explore each of these options:\n",
    "\n",
    "1.Series: A Series in pandas is mutable, meaning you can modify the elements, index labels, or other \n",
    "          attributes of a Series after it is created. For example, you can update the values of a Series, \n",
    "          change the index labels, or add/remove elements from the Series.\n",
    "\n",
    "2.DataFrame: Similar to a Series, a DataFrame is also mutable. You can modify the values in individual \n",
    "             cells, add or remove columns, change column names, or update the index labels. Additionally, \n",
    "             you can perform various operations like merging, joining, and grouping on a DataFrame, \n",
    "             altering its structure or content.\n",
    "\n",
    "3.Panel: A Panel is a three-dimensional data structure in pandas, but it is not mutable. The Panel \n",
    "         was removed as of pandas version 1.0.0, and its functionality has been integrated into other \n",
    "         data structures like the DataFrame and MultiIndex.\n",
    "\n",
    "To summarize, both Series and DataFrame are mutable in pandas, while the Panel is not."
   ]
  },
  {
   "cell_type": "code",
   "execution_count": 30,
   "id": "2d5764dc-a1e9-47d6-a33d-817ee3a62812",
   "metadata": {},
   "outputs": [
    {
     "data": {
      "text/html": [
       "<div>\n",
       "<style scoped>\n",
       "    .dataframe tbody tr th:only-of-type {\n",
       "        vertical-align: middle;\n",
       "    }\n",
       "\n",
       "    .dataframe tbody tr th {\n",
       "        vertical-align: top;\n",
       "    }\n",
       "\n",
       "    .dataframe thead th {\n",
       "        text-align: right;\n",
       "    }\n",
       "</style>\n",
       "<table border=\"1\" class=\"dataframe\">\n",
       "  <thead>\n",
       "    <tr style=\"text-align: right;\">\n",
       "      <th></th>\n",
       "      <th>Name</th>\n",
       "      <th>Age</th>\n",
       "      <th>Gender</th>\n",
       "    </tr>\n",
       "  </thead>\n",
       "  <tbody>\n",
       "    <tr>\n",
       "      <th>0</th>\n",
       "      <td>Alice</td>\n",
       "      <td>25</td>\n",
       "      <td>Female</td>\n",
       "    </tr>\n",
       "    <tr>\n",
       "      <th>1</th>\n",
       "      <td>Bob</td>\n",
       "      <td>30</td>\n",
       "      <td>Male</td>\n",
       "    </tr>\n",
       "    <tr>\n",
       "      <th>2</th>\n",
       "      <td>Claire</td>\n",
       "      <td>27</td>\n",
       "      <td>Female</td>\n",
       "    </tr>\n",
       "  </tbody>\n",
       "</table>\n",
       "</div>"
      ],
      "text/plain": [
       "     Name  Age  Gender\n",
       "0   Alice   25  Female\n",
       "1     Bob   30    Male\n",
       "2  Claire   27  Female"
      ]
     },
     "execution_count": 31,
     "metadata": {},
     "output_type": "execute_result"
    }
   ],
   "source": [
    "#Q7\n",
    "\n",
    "import pandas as pd\n",
    "\n",
    "name = pd.Series(['Alice', 'Bob', 'Claire'])\n",
    "age = pd.Series([25, 30, 27])\n",
    "gender = pd.Series(['Female', 'Male', 'Female'])\n",
    "\n",
    "data = {'Name': name, 'Age': age, 'Gender': gender}\n",
    "\n",
    "df = pd.DataFrame(data)\n",
    "df"
   ]
  },
  {
   "cell_type": "code",
   "execution_count": null,
   "id": "aa7fa4d9-0087-495e-abec-818a60fad8e3",
   "metadata": {},
   "outputs": [],
   "source": [
    "In this example, we have three Series: name, age, and gender. Each Series represents a column in the \n",
    "DataFrame. We create a dictionary data where the keys are the column names ('Name', 'Age', 'Gender'), \n",
    "and the values are the corresponding Series.\n",
    "\n",
    "Then, we pass the data dictionary as an argument to the pd.DataFrame() function, which creates the DataFrame df. \n",
    "Finally, we print the DataFrame using print(df).\n",
    "\n",
    "The resulting DataFrame contains the data from the individual Series, with each Series mapped to its \n",
    "corresponding column. The index values are automatically generated starting from 0."
   ]
  }
 ],
 "metadata": {
  "kernelspec": {
   "display_name": "Python 3 (ipykernel)",
   "language": "python",
   "name": "python3"
  },
  "language_info": {
   "codemirror_mode": {
    "name": "ipython",
    "version": 3
   },
   "file_extension": ".py",
   "mimetype": "text/x-python",
   "name": "python",
   "nbconvert_exporter": "python",
   "pygments_lexer": "ipython3",
   "version": "3.10.8"
  }
 },
 "nbformat": 4,
 "nbformat_minor": 5
}
